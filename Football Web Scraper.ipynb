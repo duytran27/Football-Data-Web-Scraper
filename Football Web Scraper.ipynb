{
 "cells": [
  {
   "cell_type": "code",
   "execution_count": 113,
   "id": "caf4d247",
   "metadata": {},
   "outputs": [],
   "source": [
    "import json\n",
    "import time\n",
    "\n",
    "import numpy as np\n",
    "import pandas as pd\n",
    "\n",
    "from bs4 import BeautifulSoup\n",
    "\n",
    "from pydantic import BaseModel\n",
    "from typing import List, Optional\n",
    "\n",
    "from selenium import webdriver\n",
    "\n",
    "from supabase import create_client, Client\n",
    "\n",
    "import os\n",
    "\n",
    "from dotenv import load_dotenv"
   ]
  },
  {
   "cell_type": "code",
   "execution_count": 114,
   "id": "94fa7a2a",
   "metadata": {},
   "outputs": [],
   "source": [
    "# Load environment variables for Supabase credentials\n",
    "load_dotenv()\n",
    "supabase_password = os.getenv('supabase_password')\n",
    "project_url = os.getenv('project_url')\n",
    "project_api = os.getenv('project_api')"
   ]
  },
  {
   "cell_type": "code",
   "execution_count": 115,
   "id": "15d2daf8",
   "metadata": {},
   "outputs": [],
   "source": [
    "import psycopg2\n",
    "# Connect to the PostgreSQL database using psycopg2\n",
    "conn = psycopg2.connect(\n",
    "    user =\"postgres.srnpjbsmliwxrjfuisfr\",\n",
    "    password=supabase_password,\n",
    "    host=\"aws-0-us-west-1.pooler.supabase.com\",\n",
    "    port=6543,\n",
    "    database=\"postgres\"\n",
    ")"
   ]
  },
  {
   "cell_type": "markdown",
   "id": "e4d2b959",
   "metadata": {},
   "source": []
  },
  {
   "cell_type": "code",
   "execution_count": 116,
   "id": "726b12c5",
   "metadata": {},
   "outputs": [],
   "source": [
    "# Define a Pydantic model for match events\n",
    "class MatchEvent(BaseModel):\n",
    "    id: int\n",
    "    event_id: int\n",
    "    minute: int\n",
    "    second: Optional[float] = None\n",
    "    team_id: int\n",
    "    player_id: int\n",
    "    x: float\n",
    "    y: float\n",
    "    end_x: Optional[float] = None\n",
    "    end_y: Optional[float] = None\n",
    "    qualifiers: List[dict]\n",
    "    is_touch: bool\n",
    "    blocked_x: Optional[float] = None\n",
    "    blocked_y: Optional[float] = None\n",
    "    goal_mouth_z: Optional[float] = None\n",
    "    goal_mouth_y: Optional[float] = None\n",
    "    is_shot: bool\n",
    "    card_type: bool\n",
    "    is_goal: bool\n",
    "    type_display_name: str\n",
    "    outcome_type_display_name: str\n",
    "    period_display_name: str"
   ]
  },
  {
   "cell_type": "code",
   "execution_count": 117,
   "id": "64826ddf",
   "metadata": {},
   "outputs": [],
   "source": [
    "# Function to insert match events into Supabase\n",
    "def insert_match_events(df, supabase):\n",
    "    events = [\n",
    "        MatchEvent(**x).dict()\n",
    "        for x in df.to_dict(orient=\"records\")\n",
    "    ]\n",
    "    # Upsert the events into the Supabase table\n",
    "    execution = supabase.table('match_event').upsert(events).execute()"
   ]
  },
  {
   "cell_type": "code",
   "execution_count": 118,
   "id": "4a6072a7",
   "metadata": {},
   "outputs": [],
   "source": [
    "# Define a Pydantic model for players\n",
    "class Player(BaseModel):\n",
    "    player_id: int\n",
    "    shirt_no: int\n",
    "    name: str\n",
    "    age: int\n",
    "    position: str\n",
    "    team_id: int"
   ]
  },
  {
   "cell_type": "code",
   "execution_count": 119,
   "id": "5f153127",
   "metadata": {},
   "outputs": [],
   "source": [
    "# Function to insert player information into Supabase\n",
    "def insert_players(team_info, supabase):\n",
    "    players = []\n",
    "    \n",
    "    #Loop over each team and create new dictionary for each player format of the table\n",
    "    for team in team_info:\n",
    "        for player in team['players']:\n",
    "            players.append({\n",
    "                'player_id': player['playerId'],\n",
    "                'team_id': team['team_id'],\n",
    "                'shirt_no': player['shirtNo'],\n",
    "                'name': player['name'],\n",
    "                'position': player['position'],\n",
    "                'age': player['age']\n",
    "            })\n",
    "     # Upsert the players into the Supabase table           \n",
    "    execution = supabase.table('player').upsert(players).execute()"
   ]
  },
  {
   "cell_type": "code",
   "execution_count": 120,
   "id": "786e24c8",
   "metadata": {},
   "outputs": [],
   "source": [
    "# Create a Supabase client\n",
    "supabase = create_client(project_url, project_api)"
   ]
  },
  {
   "cell_type": "code",
   "execution_count": 121,
   "id": "f9a5f151",
   "metadata": {},
   "outputs": [],
   "source": [
    "# Initialize the Selenium WebDriver\n",
    "driver = webdriver.Chrome()"
   ]
  },
  {
   "cell_type": "code",
   "execution_count": 122,
   "id": "5e3671ae",
   "metadata": {},
   "outputs": [],
   "source": [
    "# Function to scrape match events from a given URL\n",
    "def scrape_match_events(whoscored_url, driver):\n",
    "    \n",
    "    # Navigate to the specified Whoscored URL using the provided web driver\n",
    "    driver.get(whoscored_url)\n",
    "    \n",
    "    # Parse the page source using BeautifulSoup\n",
    "    soup = BeautifulSoup(driver.page_source, 'html.parser')\n",
    "    \n",
    "    # Find the script tag containing 'matchCentreData' which holds the match data\n",
    "    element = soup.select_one('script:-soup-contains(\"matchCentreData\")')\n",
    "    \n",
    "    # Extract the JSON data from the script tag and load it into a Python dictionary\n",
    "    try:\n",
    "        matchdict = json.loads(element.text.split(\"matchCentreData: \")[1].split(',\\n')[0])\n",
    "    except(AttributeError, IndexError):\n",
    "        print('No data is found, scraping stopped')\n",
    "        return  # Exit the function if no data is found\n",
    "\n",
    "    # Get the list of match events from the dictionary\n",
    "    match_events = matchdict['events']\n",
    "    \n",
    "    # Convert the list of events into a pandas DataFrame\n",
    "    df = pd.DataFrame(match_events)\n",
    "    \n",
    "    # Drop rows where 'playerId' is missing to clean the data\n",
    "    df.dropna(subset='playerId', inplace=True)\n",
    "    \n",
    "    # Replace any remaining NaN values with None\n",
    "    df = df.where(pd.notnull(df), None)\n",
    "    \n",
    "    # Rename the columns to make them more descriptive and consistent\n",
    "    df = df.rename(\n",
    "        {\n",
    "            'eventId': 'event_id',\n",
    "            'expandedMinute': 'expanded_minute',\n",
    "            'outcomeType': 'outcome_type',\n",
    "            'isTouch': 'is_touch',\n",
    "            'playerId': 'player_id',\n",
    "            'teamId': 'team_id',\n",
    "            'endX': 'end_x',\n",
    "            'endY': 'end_y',\n",
    "            'blockedX': 'blocked_x',\n",
    "            'blockedY': 'blocked_y',\n",
    "            'goalMouthZ': 'goal_mouth_z',\n",
    "            'goalMouthY': 'goal_mouth_y',\n",
    "            'isShot': 'is_shot',\n",
    "            'cardType': 'card_type',\n",
    "            'isGoal': 'is_goal'\n",
    "        },\n",
    "        axis=1\n",
    "    )\n",
    "    \n",
    "    # Extract display names for 'period', 'type', and 'outcome_type' fields\n",
    "    df['period_display_name'] = df['period'].apply(lambda x: x['displayName'])\n",
    "    df['type_display_name'] = df['type'].apply(lambda x: x['displayName'])\n",
    "    df['outcome_type_display_name'] = df['outcome_type'].apply(lambda x: x['displayName'])\n",
    "    \n",
    "    # Drop the original complex columns now that their display names are extracted\n",
    "    df.drop(columns=[\"period\", \"type\", \"outcome_type\"], inplace=True)\n",
    "    \n",
    "    # Ensure 'is_goal' and 'is_card' columns exist and default them to False if missing\n",
    "    if 'is_goal' not in df.columns:\n",
    "        df['is_goal'] = False\n",
    "        \n",
    "    if 'is_card' not in df.columns:\n",
    "        df['is_card'] = False\n",
    "        df['card_type'] = False\n",
    "        \n",
    "    # Remove rows where the event type is \"OffsideGiven\"\n",
    "    df = df[~(df['type_display_name'] == \"OffsideGiven\")]\n",
    "    \n",
    "    # Reorder the DataFrame columns for consistency\n",
    "    df = df[[\n",
    "        'id', 'event_id', 'minute', 'second', 'team_id', 'player_id', 'x', 'y', 'end_x', 'end_y',\n",
    "        'qualifiers', 'is_touch', 'blocked_x', 'blocked_y', 'goal_mouth_z', 'goal_mouth_y', 'is_shot',\n",
    "        'card_type', 'is_goal', 'type_display_name', 'outcome_type_display_name',\n",
    "        'period_display_name'\n",
    "    ]]\n",
    "    \n",
    "    # Convert specific columns to appropriate data types\n",
    "    df[['id', 'event_id', 'minute', 'team_id', 'player_id']] = df[['id', 'event_id', 'minute', 'team_id', 'player_id']].astype(np.int64)\n",
    "    df[['second', 'x', 'y', 'end_x', 'end_y']] = df[['second', 'x', 'y', 'end_x', 'end_y']].astype(float)\n",
    "    df[['is_shot', 'is_goal', 'card_type']] = df[['is_shot', 'is_goal', 'card_type']].astype(bool)\n",
    "    \n",
    "    # Ensure 'is_goal' and 'is_shot' are filled with False where data is missing\n",
    "    df['is_goal'] = df['is_goal'].fillna(False)\n",
    "    df['is_shot'] = df['is_shot'].fillna(False)\n",
    "    \n",
    "    # Replace NaNs in float columns with None to maintain consistency\n",
    "    for column in df.columns:\n",
    "        if df[column].dtype == np.float64 or df[column].dtype == np.float32:\n",
    "            df[column] = np.where(\n",
    "                np.isnan(df[column]),\n",
    "                None,\n",
    "                df[column]\n",
    "            )\n",
    "    \n",
    "    # Insert the cleaned and processed DataFrame into the match events table in Supabase\n",
    "    insert_match_events(df, supabase)\n",
    "    \n",
    "    # Extract and prepare team information from the match dictionary\n",
    "    team_info = []\n",
    "    team_info.append({\n",
    "        'team_id': matchdict['home']['teamId'],\n",
    "        'name': matchdict['home']['name'],\n",
    "        'country_name': matchdict['home']['countryName'],\n",
    "        'manager_name': matchdict['home']['managerName'],\n",
    "        'players': matchdict['home']['players'],\n",
    "    })\n",
    "\n",
    "    team_info.append({\n",
    "        'team_id': matchdict['away']['teamId'],\n",
    "        'name': matchdict['away']['name'],\n",
    "        'country_name': matchdict['away']['countryName'],\n",
    "        'manager_name': matchdict['away']['managerName'],\n",
    "        'players': matchdict['away']['players'],\n",
    "    })\n",
    "    \n",
    "    # Insert the team information into the players table in Supabase\n",
    "    insert_players(team_info, supabase)\n",
    "    \n",
    "    # Return success message\n",
    "    return print('Success')\n",
    "\n"
   ]
  },
  {
   "cell_type": "code",
   "execution_count": 123,
   "id": "0fa38a52",
   "metadata": {},
   "outputs": [],
   "source": [
    "# Get the match URLs from the specified Whoscored page\n",
    "driver.get('https://www.whoscored.com/Teams/37/Show/Germany-Bayern-Munich')\n",
    "time.sleep(3)"
   ]
  },
  {
   "cell_type": "code",
   "execution_count": 124,
   "id": "5eef1ae6",
   "metadata": {},
   "outputs": [],
   "source": [
    "# Parse the page source to find all match URLs\n",
    "soup = BeautifulSoup(driver.page_source, 'html.parser')"
   ]
  },
  {
   "cell_type": "code",
   "execution_count": 125,
   "id": "9db0ad31",
   "metadata": {},
   "outputs": [],
   "source": [
    "# Filter href to get the unique match URLs\n",
    "all_urls = soup.select('a[href*=\"\\/Live\\/\"]')"
   ]
  },
  {
   "cell_type": "code",
   "execution_count": 126,
   "id": "7aec1756",
   "metadata": {},
   "outputs": [],
   "source": [
    "#Filter href to get the urls\n",
    "all_urls = list(set([\n",
    "    'https://www.whoscored.com' + x.attrs['href']\n",
    "    for x in all_urls\n",
    "]))"
   ]
  },
  {
   "cell_type": "code",
   "execution_count": 127,
   "id": "6b912aea",
   "metadata": {},
   "outputs": [
    {
     "data": {
      "text/plain": [
       "['https://www.whoscored.com/Matches/1834261/Live/Germany-Bundesliga-2024-2025-Wolfsburg-Bayern-Munich',\n",
       " 'https://www.whoscored.com/Matches/1834276/Live/Germany-Bundesliga-2024-2025-Bayern-Munich-Freiburg',\n",
       " 'https://www.whoscored.com/Matches/1816538/Live/Germany-DFB-Pokal-2024-2025-Ulm-Bayern-Munich',\n",
       " 'https://www.whoscored.com/Matches/1834286/Live/Germany-Bundesliga-2024-2025-Holstein-Kiel-Bayern-Munich']"
      ]
     },
     "execution_count": 127,
     "metadata": {},
     "output_type": "execute_result"
    }
   ],
   "source": [
    "all_urls"
   ]
  },
  {
   "cell_type": "code",
   "execution_count": 128,
   "id": "a4894c7c",
   "metadata": {
    "scrolled": true
   },
   "outputs": [
    {
     "name": "stdout",
     "output_type": "stream",
     "text": [
      "https://www.whoscored.com/Matches/1834261/Live/Germany-Bundesliga-2024-2025-Wolfsburg-Bayern-Munich\n"
     ]
    },
    {
     "name": "stderr",
     "output_type": "stream",
     "text": [
      "C:\\Users\\Duy Tran\\AppData\\Local\\Temp\\ipykernel_9836\\2641234873.py:4: PydanticDeprecatedSince20: The `dict` method is deprecated; use `model_dump` instead. Deprecated in Pydantic V2.0 to be removed in V3.0. See Pydantic V2 Migration Guide at https://errors.pydantic.dev/2.4/migration/\n",
      "  MatchEvent(**x).dict()\n"
     ]
    },
    {
     "name": "stdout",
     "output_type": "stream",
     "text": [
      "Success\n",
      "https://www.whoscored.com/Matches/1834276/Live/Germany-Bundesliga-2024-2025-Bayern-Munich-Freiburg\n"
     ]
    },
    {
     "name": "stderr",
     "output_type": "stream",
     "text": [
      "C:\\Users\\Duy Tran\\AppData\\Local\\Temp\\ipykernel_9836\\2641234873.py:4: PydanticDeprecatedSince20: The `dict` method is deprecated; use `model_dump` instead. Deprecated in Pydantic V2.0 to be removed in V3.0. See Pydantic V2 Migration Guide at https://errors.pydantic.dev/2.4/migration/\n",
      "  MatchEvent(**x).dict()\n"
     ]
    },
    {
     "name": "stdout",
     "output_type": "stream",
     "text": [
      "Success\n",
      "https://www.whoscored.com/Matches/1816538/Live/Germany-DFB-Pokal-2024-2025-Ulm-Bayern-Munich\n",
      "No data is found, scraping stopped\n",
      "https://www.whoscored.com/Matches/1834286/Live/Germany-Bundesliga-2024-2025-Holstein-Kiel-Bayern-Munich\n"
     ]
    },
    {
     "name": "stderr",
     "output_type": "stream",
     "text": [
      "C:\\Users\\Duy Tran\\AppData\\Local\\Temp\\ipykernel_9836\\2641234873.py:4: PydanticDeprecatedSince20: The `dict` method is deprecated; use `model_dump` instead. Deprecated in Pydantic V2.0 to be removed in V3.0. See Pydantic V2 Migration Guide at https://errors.pydantic.dev/2.4/migration/\n",
      "  MatchEvent(**x).dict()\n"
     ]
    },
    {
     "name": "stdout",
     "output_type": "stream",
     "text": [
      "Success\n"
     ]
    }
   ],
   "source": [
    "# Print all match URLs\n",
    "for url in all_urls:\n",
    "    print(url)\n",
    "    try:\n",
    "        scrape_match_events(\n",
    "            whoscored_url=url,\n",
    "            driver=driver\n",
    "        )\n",
    "    except Exception as e:\n",
    "        print(f'Error scraping {url}: {e}')  # Print the error message for debugging\n",
    "    time.sleep(2)"
   ]
  },
  {
   "cell_type": "code",
   "execution_count": null,
   "id": "d2e7b188",
   "metadata": {},
   "outputs": [],
   "source": []
  },
  {
   "cell_type": "code",
   "execution_count": null,
   "id": "ebbf2f3f",
   "metadata": {},
   "outputs": [],
   "source": []
  },
  {
   "cell_type": "code",
   "execution_count": null,
   "id": "16166a33",
   "metadata": {},
   "outputs": [],
   "source": []
  },
  {
   "cell_type": "code",
   "execution_count": null,
   "id": "416f550e",
   "metadata": {},
   "outputs": [],
   "source": []
  },
  {
   "cell_type": "code",
   "execution_count": null,
   "id": "76622592",
   "metadata": {},
   "outputs": [],
   "source": []
  },
  {
   "cell_type": "code",
   "execution_count": null,
   "id": "b8f72190",
   "metadata": {},
   "outputs": [],
   "source": []
  },
  {
   "cell_type": "code",
   "execution_count": null,
   "id": "0ceebedb",
   "metadata": {},
   "outputs": [],
   "source": []
  },
  {
   "cell_type": "code",
   "execution_count": null,
   "id": "8913c684",
   "metadata": {},
   "outputs": [],
   "source": []
  },
  {
   "cell_type": "code",
   "execution_count": null,
   "id": "e7f5bf77",
   "metadata": {},
   "outputs": [],
   "source": []
  },
  {
   "cell_type": "code",
   "execution_count": null,
   "id": "e483ec9d",
   "metadata": {},
   "outputs": [],
   "source": []
  }
 ],
 "metadata": {
  "kernelspec": {
   "display_name": "Python 3 (ipykernel)",
   "language": "python",
   "name": "python3"
  },
  "language_info": {
   "codemirror_mode": {
    "name": "ipython",
    "version": 3
   },
   "file_extension": ".py",
   "mimetype": "text/x-python",
   "name": "python",
   "nbconvert_exporter": "python",
   "pygments_lexer": "ipython3",
   "version": "3.11.7"
  }
 },
 "nbformat": 4,
 "nbformat_minor": 5
}
