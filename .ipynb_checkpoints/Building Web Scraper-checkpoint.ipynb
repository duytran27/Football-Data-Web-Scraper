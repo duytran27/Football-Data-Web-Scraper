{
 "cells": [
  {
   "cell_type": "code",
   "execution_count": 3,
   "id": "caf4d247",
   "metadata": {},
   "outputs": [],
   "source": [
    "import json\n",
    "import time\n",
    "\n",
    "import numpy as np\n",
    "import pandas as pd\n",
    "\n",
    "from bs4 import BeautifulSoup\n",
    "\n",
    "from pydantic import BaseModel\n",
    "from typing import List, Optional\n",
    "\n",
    "from selenium import webdriver\n",
    "\n",
    "from supabase import create_client, Client"
   ]
  },
  {
   "cell_type": "code",
   "execution_count": 4,
   "id": "b29279e6",
   "metadata": {},
   "outputs": [],
   "source": [
    "driver = webdriver.Chrome()"
   ]
  },
  {
   "cell_type": "code",
   "execution_count": 5,
   "id": "8e002109",
   "metadata": {},
   "outputs": [],
   "source": [
    "whoscored_url = 'https://www.whoscored.com/Matches/1832494/Live/International-European-Championship-2024-Spain-Germany'"
   ]
  },
  {
   "cell_type": "code",
   "execution_count": 6,
   "id": "10726c94",
   "metadata": {},
   "outputs": [],
   "source": [
    "driver.get(whoscored_url)"
   ]
  },
  {
   "cell_type": "code",
   "execution_count": 8,
   "id": "9b40b7ab",
   "metadata": {},
   "outputs": [],
   "source": [
    "soup = BeautifulSoup(driver.page_source, 'html.parser')"
   ]
  },
  {
   "cell_type": "code",
   "execution_count": 10,
   "id": "745c6925",
   "metadata": {},
   "outputs": [],
   "source": [
    "element = soup.select_one('script:-soup-contains(\"matchCentreData\")')"
   ]
  },
  {
   "cell_type": "code",
   "execution_count": 17,
   "id": "27729a37",
   "metadata": {},
   "outputs": [],
   "source": [
    "matchdict = json.loads(element.text.split(\"matchCentreData: \") [1].split(',\\n') [0])"
   ]
  },
  {
   "cell_type": "code",
   "execution_count": null,
   "id": "514a7cb0",
   "metadata": {},
   "outputs": [],
   "source": []
  },
  {
   "cell_type": "code",
   "execution_count": null,
   "id": "c42c7687",
   "metadata": {},
   "outputs": [],
   "source": []
  },
  {
   "cell_type": "code",
   "execution_count": null,
   "id": "c8c6d7c4",
   "metadata": {},
   "outputs": [],
   "source": []
  },
  {
   "cell_type": "code",
   "execution_count": null,
   "id": "d8b082a7",
   "metadata": {},
   "outputs": [],
   "source": []
  },
  {
   "cell_type": "code",
   "execution_count": null,
   "id": "aaa44384",
   "metadata": {},
   "outputs": [],
   "source": []
  },
  {
   "cell_type": "code",
   "execution_count": null,
   "id": "ec099c7e",
   "metadata": {},
   "outputs": [],
   "source": []
  }
 ],
 "metadata": {
  "kernelspec": {
   "display_name": "Python 3 (ipykernel)",
   "language": "python",
   "name": "python3"
  },
  "language_info": {
   "codemirror_mode": {
    "name": "ipython",
    "version": 3
   },
   "file_extension": ".py",
   "mimetype": "text/x-python",
   "name": "python",
   "nbconvert_exporter": "python",
   "pygments_lexer": "ipython3",
   "version": "3.11.7"
  }
 },
 "nbformat": 4,
 "nbformat_minor": 5
}
